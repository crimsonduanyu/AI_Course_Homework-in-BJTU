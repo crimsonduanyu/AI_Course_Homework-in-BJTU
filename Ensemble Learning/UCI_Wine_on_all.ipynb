{
 "cells": [
  {
   "cell_type": "markdown",
   "metadata": {
    "pycharm": {
     "name": "#%% md\n"
    }
   },
   "source": [
    "# UCI中的葡萄酒质量数据集"
   ]
  },
  {
   "cell_type": "markdown",
   "metadata": {
    "pycharm": {
     "name": "#%% md\n"
    }
   },
   "source": [
    "###### # -*- coding: utf-8 -*-\n",
    "###### # @Time : 2022/4/21\n",
    "###### # @EMAIL： duanyu@bjtu.edu.cn\n",
    "###### # @Software: PyCharm"
   ]
  },
  {
   "cell_type": "markdown",
   "metadata": {
    "pycharm": {
     "name": "#%% md\n"
    }
   },
   "source": [
    "###### 选择UCI中的葡萄酒质量数据集或者自选与专业相关的数据集，采用三种以上的集成学习算法进行分类，选择你认为合适的度量指标（错误率、查准率、查全率、F1等）对这些算法和对应的弱学习器(又称基学习器)进行评估对比，选出最优模型。"
   ]
  },
  {
   "cell_type": "code",
   "execution_count": 1,
   "metadata": {
    "pycharm": {
     "name": "#%%\n"
    }
   },
   "outputs": [],
   "source": [
    "from sklearn.datasets import load_wine\n",
    "from sklearn.model_selection import train_test_split\n",
    "from sklearn.model_selection import cross_val_score\n",
    "import numpy as np\n",
    "\n",
    "import matplotlib.pyplot as plt\n",
    "%matplotlib inline\n",
    "\n",
    "data = load_wine()\n",
    "X = data['data']\n",
    "y = data['target']\n",
    "X_train,X_test,y_train,y_test = train_test_split(X,y,test_size=0.3)"
   ]
  },
  {
   "cell_type": "markdown",
   "metadata": {
    "pycharm": {
     "name": "#%% md\n"
    }
   },
   "source": [
    "#### Adaboost"
   ]
  },
  {
   "cell_type": "code",
   "execution_count": 2,
   "metadata": {
    "pycharm": {
     "name": "#%%\n"
    }
   },
   "outputs": [
    {
     "name": "stdout",
     "output_type": "stream",
     "text": [
      "AdaBoost MSE =  0.1111111111111111\n"
     ]
    },
    {
     "data": {
      "image/png": "[encoded data removed]",
      "text/plain": [
       "<Figure size 432x288 with 1 Axes>"
      ]
     },
     "metadata": {
      "needs_background": "light"
     },
     "output_type": "display_data"
    }
   ],
   "source": [
    "from sklearn.ensemble import AdaBoostClassifier\n",
    "\n",
    "session = AdaBoostClassifier(\n",
    "    base_estimator=None,\n",
    "    n_estimators=50,\n",
    "    learning_rate=1.0,\n",
    "    random_state=None)\n",
    "\n",
    "session.fit(X_train, y_train)\n",
    "pred_y = session.predict(X_test)\n",
    "from sklearn.metrics import mean_squared_error\n",
    "from sklearn.metrics import f1_score\n",
    "from sklearn.metrics import recall_score\n",
    "from sklearn.metrics import accuracy_score\n",
    "\n",
    "mse = mean_squared_error(y_test, pred_y)\n",
    "print(\"AdaBoost MSE = \", mse)\n",
    "\n",
    "errorlist = session.estimator_errors_\n",
    "weightlist = session.estimator_weights_\n",
    "plt.plot(range(1, len(weightlist) + 1), errorlist, label=\"ERROR\")\n",
    "plt.plot(range(1, len(weightlist) + 1), weightlist, label=\"WEIGHT\")\n",
    "plt.legend()\n",
    "plt.show()"
   ]
  },
  {
   "cell_type": "code",
   "execution_count": 3,
   "metadata": {
    "pycharm": {
     "name": "#%%\n"
    }
   },
   "outputs": [
    {
     "name": "stdout",
     "output_type": "stream",
     "text": [
      "-----------------------------------------------\n",
      "Adaboost:\n",
      "cross_val_score = 0.8833333333333332\n",
      "f1_score = 0.8897306397306397\n",
      "accuracy_score = 0.8888888888888888\n",
      "recall_score = 0.8888888888888888\n"
     ]
    }
   ],
   "source": [
    "score_Adaboost = [cross_val_score(session,X,y,cv=10).mean(),\n",
    "                  f1_score(y_pred=session.predict(X_test),y_true=y_test,zero_division=0,average='weighted'),\n",
    "                  accuracy_score(y_pred=session.predict(X_test),y_true=y_test),\n",
    "                  recall_score(y_pred=session.predict(X_test),y_true=y_test,zero_division=0,average='weighted')]\n",
    "print('-----------------------------------------------')\n",
    "print('Adaboost:')\n",
    "print('cross_val_score =',score_Adaboost[0])\n",
    "print('f1_score =',score_Adaboost[1])\n",
    "print('accuracy_score =',score_Adaboost[2])\n",
    "print('recall_score =',score_Adaboost[3])\n"
   ]
  },
  {
   "cell_type": "markdown",
   "metadata": {
    "pycharm": {
     "name": "#%% md\n"
    }
   },
   "source": [
    "#### Random Forest"
   ]
  },
  {
   "cell_type": "code",
   "execution_count": 4,
   "metadata": {
    "pycharm": {
     "name": "#%%\n"
    }
   },
   "outputs": [
    {
     "name": "stdout",
     "output_type": "stream",
     "text": [
      "When n_estimators=1, score=0.8656862745098038\n",
      "When n_estimators=2, score=0.8882352941176471\n",
      "When n_estimators=3, score=0.927124183006536\n",
      "When n_estimators=4, score=0.9215686274509804\n",
      "When n_estimators=5, score=0.9722222222222221\n",
      "When n_estimators=6, score=0.9666666666666666\n",
      "When n_estimators=7, score=0.9777777777777779\n",
      "When n_estimators=8, score=0.9777777777777779\n",
      "When n_estimators=9, score=0.9666666666666666\n",
      "When n_estimators=10, score=0.9722222222222221\n",
      "When n_estimators=11, score=0.9777777777777779\n",
      "When n_estimators=12, score=0.9833333333333334\n",
      "When n_estimators=13, score=0.9722222222222221\n",
      "When n_estimators=14, score=0.9722222222222221\n",
      "When n_estimators=15, score=0.9666666666666666\n",
      "When n_estimators=16, score=0.9666666666666666\n",
      "When n_estimators=17, score=0.9666666666666666\n",
      "When n_estimators=18, score=0.9666666666666666\n",
      "When n_estimators=19, score=0.9666666666666666\n",
      "When n_estimators=20, score=0.9777777777777779\n",
      "When n_estimators=21, score=0.9777777777777779\n",
      "When n_estimators=22, score=0.9833333333333334\n",
      "When n_estimators=23, score=0.9777777777777779\n",
      "When n_estimators=24, score=0.9777777777777779\n",
      "When n_estimators=25, score=0.9777777777777779\n",
      "When n_estimators=26, score=0.9722222222222221\n",
      "When n_estimators=27, score=0.9777777777777779\n",
      "When n_estimators=28, score=0.9777777777777779\n",
      "When n_estimators=29, score=0.9833333333333332\n",
      "When n_estimators=30, score=0.9833333333333332\n",
      "When n_estimators=31, score=0.9833333333333332\n",
      "When n_estimators=32, score=0.9833333333333332\n",
      "When n_estimators=33, score=0.9833333333333332\n",
      "When n_estimators=34, score=0.9833333333333332\n",
      "When n_estimators=35, score=0.9833333333333332\n",
      "When n_estimators=36, score=0.9833333333333332\n",
      "When n_estimators=37, score=0.9833333333333332\n",
      "When n_estimators=38, score=0.9833333333333332\n",
      "When n_estimators=39, score=0.9833333333333332\n",
      "When n_estimators=40, score=0.9833333333333332\n",
      "When n_estimators=41, score=0.9833333333333332\n",
      "When n_estimators=42, score=0.9833333333333332\n",
      "When n_estimators=43, score=0.9833333333333332\n",
      "When n_estimators=44, score=0.9833333333333332\n",
      "When n_estimators=45, score=0.9777777777777779\n",
      "When n_estimators=46, score=0.9833333333333332\n",
      "When n_estimators=47, score=0.9833333333333332\n",
      "When n_estimators=48, score=0.9833333333333332\n",
      "When n_estimators=49, score=0.9833333333333332\n",
      "When n_estimators=50, score=0.9833333333333332\n",
      "When n_estimators=51, score=0.9833333333333332\n",
      "When n_estimators=52, score=0.9833333333333332\n",
      "When n_estimators=53, score=0.9833333333333332\n",
      "When n_estimators=54, score=0.9833333333333332\n",
      "When n_estimators=55, score=0.9833333333333332\n",
      "When n_estimators=56, score=0.9833333333333332\n",
      "When n_estimators=57, score=0.9833333333333332\n",
      "When n_estimators=58, score=0.9833333333333332\n",
      "When n_estimators=59, score=0.9833333333333332\n"
     ]
    },
    {
     "data": {
      "image/png": "[encoded data removed]",
      "text/plain": [
       "<Figure size 432x288 with 1 Axes>"
      ]
     },
     "metadata": {
      "needs_background": "light"
     },
     "output_type": "display_data"
    }
   ],
   "source": [
    "from sklearn.ensemble import RandomForestClassifier\n",
    "\n",
    "n_estimators_list=[]\n",
    "score_list=[]\n",
    "for estimator in range(1,60):\n",
    "    session = RandomForestClassifier(n_estimators=estimator, random_state=0)\n",
    "    session = session.fit(X_train,y_train)\n",
    "    score_list.append(cross_val_score(session,X,y,cv=10).mean())\n",
    "    n_estimators_list.append(estimator)\n",
    "    print('When n_estimators={}, score={}'.format(n_estimators_list[-1],score_list[-1]))\n",
    "\n",
    "\n",
    "n_estimators_list=np.array(n_estimators_list)\n",
    "score_list=np.array(score_list)\n",
    "plt.plot(n_estimators_list,score_list,label = \"RandomForest\")\n",
    "plt.legend()\n",
    "plt.show()\n",
    "\n"
   ]
  },
  {
   "cell_type": "code",
   "execution_count": 5,
   "metadata": {
    "pycharm": {
     "name": "#%%\n"
    },
    "scrolled": true
   },
   "outputs": [
    {
     "name": "stdout",
     "output_type": "stream",
     "text": [
      "-----------------------------------------------\n",
      "RandomForest:\n",
      "cross_val_score = 0.9777777777777779\n",
      "f1_score = 0.9626227390180879\n",
      "accuracy_score = 0.9629629629629629\n",
      "recall_score = 0.9629629629629629\n"
     ]
    }
   ],
   "source": [
    "## best param:n_estimators=12\n",
    "session = RandomForestClassifier(n_estimators=25)\n",
    "session.fit(X_train,y_train)\n",
    "score_RF = [cross_val_score(session,X,y,cv=10).mean(),\n",
    "                f1_score(y_pred=session.predict(X_test),y_true=y_test,zero_division=0,average='weighted'),\n",
    "                accuracy_score(y_pred=session.predict(X_test),y_true=y_test),\n",
    "                recall_score(y_pred=session.predict(X_test),y_true=y_test,zero_division=0,average='weighted')]\n",
    "print('-----------------------------------------------')\n",
    "print('RandomForest:')\n",
    "print('cross_val_score =',score_RF[0])\n",
    "print('f1_score =',score_RF[1])\n",
    "print('accuracy_score =',score_RF[2])\n",
    "print('recall_score =',score_RF[3])"
   ]
  },
  {
   "cell_type": "markdown",
   "metadata": {
    "pycharm": {
     "name": "#%% md\n"
    }
   },
   "source": [
    "#### GBDT"
   ]
  },
  {
   "cell_type": "code",
   "execution_count": 6,
   "metadata": {
    "pycharm": {
     "name": "#%%\n"
    }
   },
   "outputs": [
    {
     "name": "stdout",
     "output_type": "stream",
     "text": [
      "When n_estimators=50, train_MSE=0.0, test_MSE=0.0185,CVS=0.916\n",
      "When n_estimators=100, train_MSE=0.0, test_MSE=0.0185,CVS=0.9216\n",
      "When n_estimators=150, train_MSE=0.0, test_MSE=0.0185,CVS=0.9105\n",
      "When n_estimators=200, train_MSE=0.0, test_MSE=0.0185,CVS=0.9216\n",
      "When n_estimators=250, train_MSE=0.0, test_MSE=0.0185,CVS=0.9049\n",
      "When n_estimators=300, train_MSE=0.0, test_MSE=0.037,CVS=0.9327\n",
      "When n_estimators=350, train_MSE=0.0, test_MSE=0.0556,CVS=0.9556\n",
      "When n_estimators=400, train_MSE=0.0, test_MSE=0.0556,CVS=0.933\n",
      "When n_estimators=450, train_MSE=0.0, test_MSE=0.037,CVS=0.9386\n",
      "When n_estimators=500, train_MSE=0.0, test_MSE=0.037,CVS=0.95\n",
      "When n_estimators=550, train_MSE=0.0, test_MSE=0.0556,CVS=0.95\n",
      "When n_estimators=600, train_MSE=0.0, test_MSE=0.0185,CVS=0.95\n",
      "When n_estimators=650, train_MSE=0.0, test_MSE=0.0556,CVS=0.9444\n",
      "When n_estimators=700, train_MSE=0.0, test_MSE=0.0185,CVS=0.9556\n",
      "When n_estimators=750, train_MSE=0.0, test_MSE=0.0185,CVS=0.9444\n",
      "When n_estimators=800, train_MSE=0.0, test_MSE=0.0556,CVS=0.9389\n",
      "When n_estimators=850, train_MSE=0.0, test_MSE=0.0,CVS=0.9444\n",
      "When n_estimators=900, train_MSE=0.0, test_MSE=0.0185,CVS=0.9219\n",
      "When n_estimators=950, train_MSE=0.0, test_MSE=0.037,CVS=0.9667\n",
      "When n_estimators=1000, train_MSE=0.0, test_MSE=0.0185,CVS=0.9444\n"
     ]
    },
    {
     "data": {
      "image/png": "[encoded data removed]",
      "text/plain": [
       "<Figure size 432x288 with 1 Axes>"
      ]
     },
     "metadata": {
      "needs_background": "light"
     },
     "output_type": "display_data"
    },
    {
     "data": {
      "image/png": "[encoded data removed]",
      "text/plain": [
       "<Figure size 432x288 with 1 Axes>"
      ]
     },
     "metadata": {
      "needs_background": "light"
     },
     "output_type": "display_data"
    }
   ],
   "source": [
    "from sklearn.ensemble import GradientBoostingClassifier\n",
    "from sklearn.metrics import mean_squared_error as msef\n",
    "train_score=[]\n",
    "test_score=[]\n",
    "CVS=[]\n",
    "for i in range(1,1000+1):\n",
    "    session = GradientBoostingClassifier(n_estimators=i)\n",
    "    session = session.fit(X_train,y_train)\n",
    "    train_score.append(msef(y_train,session.predict(X_train)))\n",
    "    test_score.append(msef(y_test,session.predict(X_test)))\n",
    "    CVS.append(cross_val_score(session,X,y,cv=10).mean())\n",
    "    if len(train_score)%50==0:\n",
    "        print(\"When n_estimators={}, train_MSE={}, test_MSE={},CVS={}\".format(len(train_score),round(train_score[-1],4),round(test_score[-1],4),round(CVS[-1],4)))\n",
    "plt.plot(np.arange(1000)+1,train_score,'b-',label = \"Training Set MSE\")\n",
    "plt.plot(np.arange(1000)+1,test_score,'r-',label = \"Testing Set MSE\")\n",
    "\n",
    "plt.legend()\n",
    "plt.show()\n",
    "plt.plot(np.arange(1000)+1,CVS,label = \"Cross_Val_Score\")\n",
    "plt.legend()\n",
    "plt.show()\n",
    "\n",
    "\n"
   ]
  },
  {
   "cell_type": "code",
   "execution_count": 8,
   "metadata": {},
   "outputs": [
    {
     "name": "stdout",
     "output_type": "stream",
     "text": [
      "[0.04032258064516129, 0.0, 0.0, 0.0, 0.0, 0.0, 0.0, 0.0, 0.0, 0.0, 0.0, 0.0, 0.0, 0.0, 0.0, 0.0, 0.0, 0.0, 0.0, 0.0, 0.0, 0.0, 0.0, 0.0, 0.0, 0.0, 0.0, 0.0, 0.0, 0.0, 0.0, 0.0, 0.0, 0.0, 0.0, 0.0, 0.0, 0.0, 0.0, 0.0, 0.0, 0.0, 0.0, 0.0, 0.0, 0.0, 0.0, 0.0, 0.0, 0.0, 0.0, 0.0, 0.0, 0.0, 0.0, 0.0, 0.0, 0.0, 0.0, 0.0, 0.0, 0.0, 0.0, 0.0, 0.0, 0.0, 0.0, 0.0, 0.0, 0.0, 0.0, 0.0, 0.0, 0.0, 0.0, 0.0, 0.0, 0.0, 0.0, 0.0, 0.0, 0.0, 0.0, 0.0, 0.0, 0.0, 0.0, 0.0, 0.0, 0.0, 0.0, 0.0, 0.0, 0.0, 0.0, 0.0, 0.0, 0.0, 0.0, 0.0, 0.0, 0.0, 0.0, 0.0, 0.0, 0.0, 0.0, 0.0, 0.0, 0.0, 0.0, 0.0, 0.0, 0.0, 0.0, 0.0, 0.0, 0.0, 0.0, 0.0, 0.0, 0.0, 0.0, 0.0, 0.0, 0.0, 0.0, 0.0, 0.0, 0.0, 0.0, 0.0, 0.0, 0.0, 0.0, 0.0, 0.0, 0.0, 0.0, 0.0, 0.0, 0.0, 0.0, 0.0, 0.0, 0.0, 0.0, 0.0, 0.0, 0.0, 0.0, 0.0, 0.0, 0.0, 0.0, 0.0, 0.0, 0.0, 0.0, 0.0, 0.0, 0.0, 0.0, 0.0, 0.0, 0.0, 0.0, 0.0, 0.0, 0.0, 0.0, 0.0, 0.0, 0.0, 0.0, 0.0, 0.0, 0.0, 0.0, 0.0, 0.0, 0.0, 0.0, 0.0, 0.0, 0.0, 0.0, 0.0, 0.0, 0.0, 0.0, 0.0, 0.0, 0.0, 0.0, 0.0, 0.0, 0.0, 0.0, 0.0, 0.0, 0.0, 0.0, 0.0, 0.0, 0.0, 0.0, 0.0, 0.0, 0.0, 0.0, 0.0, 0.0, 0.0, 0.0, 0.0, 0.0, 0.0, 0.0, 0.0, 0.0, 0.0, 0.0, 0.0, 0.0, 0.0, 0.0, 0.0, 0.0, 0.0, 0.0, 0.0, 0.0, 0.0, 0.0, 0.0, 0.0, 0.0, 0.0, 0.0, 0.0, 0.0, 0.0, 0.0, 0.0, 0.0, 0.0, 0.0, 0.0, 0.0, 0.0, 0.0, 0.0, 0.0, 0.0, 0.0, 0.0, 0.0, 0.0, 0.0, 0.0, 0.0, 0.0, 0.0, 0.0, 0.0, 0.0, 0.0, 0.0, 0.0, 0.0, 0.0, 0.0, 0.0, 0.0, 0.0, 0.0, 0.0, 0.0, 0.0, 0.0, 0.0, 0.0, 0.0, 0.0, 0.0, 0.0, 0.0, 0.0, 0.0, 0.0, 0.0, 0.0, 0.0, 0.0, 0.0, 0.0, 0.0, 0.0, 0.0, 0.0, 0.0, 0.0, 0.0, 0.0, 0.0, 0.0, 0.0, 0.0, 0.0, 0.0, 0.0, 0.0, 0.0, 0.0, 0.0, 0.0, 0.0, 0.0, 0.0, 0.0, 0.0, 0.0, 0.0, 0.0, 0.0, 0.0, 0.0, 0.0, 0.0, 0.0, 0.0, 0.0, 0.0, 0.0, 0.0, 0.0, 0.0, 0.0, 0.0, 0.0, 0.0, 0.0, 0.0, 0.0, 0.0, 0.0, 0.0, 0.0, 0.0, 0.0, 0.0, 0.0, 0.0, 0.0, 0.0, 0.0, 0.0, 0.0, 0.0, 0.0, 0.0, 0.0, 0.0, 0.0, 0.0, 0.0, 0.0, 0.0, 0.0, 0.0, 0.0, 0.0, 0.0, 0.0, 0.0, 0.0, 0.0, 0.0, 0.0, 0.0, 0.0, 0.0, 0.0, 0.0, 0.0, 0.0, 0.0, 0.0, 0.0, 0.0, 0.0, 0.0, 0.0, 0.0, 0.0, 0.0, 0.0, 0.0, 0.0, 0.0, 0.0, 0.0, 0.0, 0.0, 0.0, 0.0, 0.0, 0.0, 0.0, 0.0, 0.0, 0.0, 0.0, 0.0, 0.0, 0.0, 0.0, 0.0, 0.0, 0.0, 0.0, 0.0, 0.0, 0.0, 0.0, 0.0, 0.0, 0.0, 0.0, 0.0, 0.0, 0.0, 0.0, 0.0, 0.0, 0.0, 0.0, 0.0, 0.0, 0.0, 0.0, 0.0, 0.0, 0.0, 0.0, 0.0, 0.0, 0.0, 0.0, 0.0, 0.0, 0.0, 0.0, 0.0, 0.0, 0.0, 0.0, 0.0, 0.0, 0.0, 0.0, 0.0, 0.0, 0.0, 0.0, 0.0, 0.0, 0.0, 0.0, 0.0, 0.0, 0.0, 0.0, 0.0, 0.0, 0.0, 0.0, 0.0, 0.0, 0.0, 0.0, 0.0, 0.0, 0.0, 0.0, 0.0, 0.0, 0.0, 0.0, 0.0, 0.0, 0.0, 0.0, 0.0, 0.0, 0.0, 0.0, 0.0, 0.0, 0.0, 0.0, 0.0, 0.0, 0.0, 0.0, 0.0, 0.0, 0.0, 0.0, 0.0, 0.0, 0.0, 0.0, 0.0, 0.0, 0.0, 0.0, 0.0, 0.0, 0.0, 0.0, 0.0, 0.0, 0.0, 0.0, 0.0, 0.0, 0.0, 0.0, 0.0, 0.0, 0.0, 0.0, 0.0, 0.0, 0.0, 0.0, 0.0, 0.0, 0.0, 0.0, 0.0, 0.0, 0.0, 0.0, 0.0, 0.0, 0.0, 0.0, 0.0, 0.0, 0.0, 0.0, 0.0, 0.0, 0.0, 0.0, 0.0, 0.0, 0.0, 0.0, 0.0, 0.0, 0.0, 0.0, 0.0, 0.0, 0.0, 0.0, 0.0, 0.0, 0.0, 0.0, 0.0, 0.0, 0.0, 0.0, 0.0, 0.0, 0.0, 0.0, 0.0, 0.0, 0.0, 0.0, 0.0, 0.0, 0.0, 0.0, 0.0, 0.0, 0.0, 0.0, 0.0, 0.0, 0.0, 0.0, 0.0, 0.0, 0.0, 0.0, 0.0, 0.0, 0.0, 0.0, 0.0, 0.0, 0.0, 0.0, 0.0, 0.0, 0.0, 0.0, 0.0, 0.0, 0.0, 0.0, 0.0, 0.0, 0.0, 0.0, 0.0, 0.0, 0.0, 0.0, 0.0, 0.0, 0.0, 0.0, 0.0, 0.0, 0.0, 0.0, 0.0, 0.0, 0.0, 0.0, 0.0, 0.0, 0.0, 0.0, 0.0, 0.0, 0.0, 0.0, 0.0, 0.0, 0.0, 0.0, 0.0, 0.0, 0.0, 0.0, 0.0, 0.0, 0.0, 0.0, 0.0, 0.0, 0.0, 0.0, 0.0, 0.0, 0.0, 0.0, 0.0, 0.0, 0.0, 0.0, 0.0, 0.0, 0.0, 0.0, 0.0, 0.0, 0.0, 0.0, 0.0, 0.0, 0.0, 0.0, 0.0, 0.0, 0.0, 0.0, 0.0, 0.0, 0.0, 0.0, 0.0, 0.0, 0.0, 0.0, 0.0, 0.0, 0.0, 0.0, 0.0, 0.0, 0.0, 0.0, 0.0, 0.0, 0.0, 0.0, 0.0, 0.0, 0.0, 0.0, 0.0, 0.0, 0.0, 0.0, 0.0, 0.0, 0.0, 0.0, 0.0, 0.0, 0.0, 0.0, 0.0, 0.0, 0.0, 0.0, 0.0, 0.0, 0.0, 0.0, 0.0, 0.0, 0.0, 0.0, 0.0, 0.0, 0.0, 0.0, 0.0, 0.0, 0.0, 0.0, 0.0, 0.0, 0.0, 0.0, 0.0, 0.0, 0.0, 0.0, 0.0, 0.0, 0.0, 0.0, 0.0, 0.0, 0.0, 0.0, 0.0, 0.0, 0.0, 0.0, 0.0, 0.0, 0.0, 0.0, 0.0, 0.0, 0.0, 0.0, 0.0, 0.0, 0.0, 0.0, 0.0, 0.0, 0.0, 0.0, 0.0, 0.0, 0.0, 0.0, 0.0, 0.0, 0.0, 0.0, 0.0, 0.0, 0.0, 0.0, 0.0, 0.0, 0.0, 0.0, 0.0, 0.0, 0.0, 0.0, 0.0, 0.0, 0.0, 0.0, 0.0, 0.0, 0.0, 0.0, 0.0, 0.0, 0.0, 0.0, 0.0, 0.0, 0.0, 0.0, 0.0, 0.0, 0.0, 0.0, 0.0, 0.0, 0.0, 0.0, 0.0, 0.0, 0.0, 0.0, 0.0, 0.0, 0.0, 0.0, 0.0, 0.0, 0.0, 0.0, 0.0, 0.0, 0.0, 0.0, 0.0, 0.0, 0.0, 0.0, 0.0, 0.0, 0.0, 0.0, 0.0, 0.0, 0.0, 0.0, 0.0, 0.0, 0.0, 0.0, 0.0, 0.0, 0.0, 0.0, 0.0, 0.0, 0.0, 0.0, 0.0, 0.0, 0.0, 0.0, 0.0, 0.0, 0.0, 0.0, 0.0, 0.0, 0.0, 0.0, 0.0, 0.0, 0.0, 0.0, 0.0, 0.0, 0.0, 0.0, 0.0, 0.0, 0.0, 0.0, 0.0, 0.0, 0.0, 0.0, 0.0, 0.0, 0.0, 0.0, 0.0, 0.0, 0.0, 0.0, 0.0, 0.0, 0.0, 0.0, 0.0, 0.0, 0.0, 0.0, 0.0, 0.0, 0.0, 0.0, 0.0, 0.0, 0.0, 0.0, 0.0, 0.0, 0.0, 0.0, 0.0, 0.0, 0.0, 0.0, 0.0, 0.0, 0.0, 0.0, 0.0, 0.0, 0.0, 0.0, 0.0, 0.0, 0.0, 0.0, 0.0, 0.0, 0.0, 0.0, 0.0, 0.0, 0.0, 0.0, 0.0, 0.0, 0.0, 0.0, 0.0, 0.0, 0.0, 0.0, 0.0, 0.0, 0.0, 0.0, 0.0, 0.0, 0.0, 0.0, 0.0, 0.0, 0.0, 0.0, 0.0, 0.0, 0.0, 0.0, 0.0, 0.0, 0.0, 0.0, 0.0, 0.0, 0.0, 0.0, 0.0, 0.0, 0.0, 0.0, 0.0, 0.0, 0.0, 0.0, 0.0, 0.0, 0.0, 0.0, 0.0, 0.0, 0.0, 0.0, 0.0, 0.0, 0.0, 0.0, 0.0, 0.0, 0.0, 0.0, 0.0, 0.0]\n",
      "[0.14814814814814814, 0.05555555555555555, 0.05555555555555555, 0.05555555555555555, 0.05555555555555555, 0.05555555555555555, 0.05555555555555555, 0.05555555555555555, 0.05555555555555555, 0.05555555555555555, 0.05555555555555555, 0.05555555555555555, 0.018518518518518517, 0.018518518518518517, 0.018518518518518517, 0.05555555555555555, 0.018518518518518517, 0.018518518518518517, 0.018518518518518517, 0.018518518518518517, 0.018518518518518517, 0.018518518518518517, 0.018518518518518517, 0.018518518518518517, 0.018518518518518517, 0.018518518518518517, 0.018518518518518517, 0.018518518518518517, 0.018518518518518517, 0.018518518518518517, 0.018518518518518517, 0.018518518518518517, 0.018518518518518517, 0.018518518518518517, 0.018518518518518517, 0.018518518518518517, 0.018518518518518517, 0.018518518518518517, 0.018518518518518517, 0.018518518518518517, 0.018518518518518517, 0.018518518518518517, 0.018518518518518517, 0.018518518518518517, 0.018518518518518517, 0.018518518518518517, 0.018518518518518517, 0.018518518518518517, 0.018518518518518517, 0.018518518518518517, 0.018518518518518517, 0.018518518518518517, 0.018518518518518517, 0.018518518518518517, 0.018518518518518517, 0.018518518518518517, 0.018518518518518517, 0.018518518518518517, 0.018518518518518517, 0.018518518518518517, 0.018518518518518517, 0.018518518518518517, 0.018518518518518517, 0.018518518518518517, 0.018518518518518517, 0.018518518518518517, 0.018518518518518517, 0.018518518518518517, 0.018518518518518517, 0.018518518518518517, 0.018518518518518517, 0.018518518518518517, 0.018518518518518517, 0.018518518518518517, 0.018518518518518517, 0.018518518518518517, 0.018518518518518517, 0.018518518518518517, 0.018518518518518517, 0.018518518518518517, 0.018518518518518517, 0.018518518518518517, 0.018518518518518517, 0.018518518518518517, 0.018518518518518517, 0.018518518518518517, 0.018518518518518517, 0.018518518518518517, 0.018518518518518517, 0.018518518518518517, 0.018518518518518517, 0.018518518518518517, 0.018518518518518517, 0.018518518518518517, 0.018518518518518517, 0.018518518518518517, 0.018518518518518517, 0.018518518518518517, 0.018518518518518517, 0.018518518518518517, 0.018518518518518517, 0.018518518518518517, 0.018518518518518517, 0.018518518518518517, 0.018518518518518517, 0.018518518518518517, 0.018518518518518517, 0.018518518518518517, 0.018518518518518517, 0.018518518518518517, 0.018518518518518517, 0.018518518518518517, 0.018518518518518517, 0.018518518518518517, 0.018518518518518517, 0.018518518518518517, 0.018518518518518517, 0.018518518518518517, 0.018518518518518517, 0.018518518518518517, 0.018518518518518517, 0.018518518518518517, 0.018518518518518517, 0.018518518518518517, 0.018518518518518517, 0.018518518518518517, 0.018518518518518517, 0.018518518518518517, 0.018518518518518517, 0.018518518518518517, 0.018518518518518517, 0.018518518518518517, 0.018518518518518517, 0.018518518518518517, 0.018518518518518517, 0.018518518518518517, 0.018518518518518517, 0.018518518518518517, 0.018518518518518517, 0.018518518518518517, 0.018518518518518517, 0.018518518518518517, 0.018518518518518517, 0.018518518518518517, 0.018518518518518517, 0.018518518518518517, 0.018518518518518517, 0.018518518518518517, 0.018518518518518517, 0.018518518518518517, 0.018518518518518517, 0.018518518518518517, 0.018518518518518517, 0.018518518518518517, 0.018518518518518517, 0.018518518518518517, 0.018518518518518517, 0.018518518518518517, 0.018518518518518517, 0.018518518518518517, 0.018518518518518517, 0.018518518518518517, 0.018518518518518517, 0.018518518518518517, 0.018518518518518517, 0.018518518518518517, 0.018518518518518517, 0.018518518518518517, 0.018518518518518517, 0.018518518518518517, 0.018518518518518517, 0.018518518518518517, 0.018518518518518517, 0.018518518518518517, 0.018518518518518517, 0.018518518518518517, 0.018518518518518517, 0.018518518518518517, 0.018518518518518517, 0.018518518518518517, 0.018518518518518517, 0.018518518518518517, 0.018518518518518517, 0.018518518518518517, 0.018518518518518517, 0.018518518518518517, 0.018518518518518517, 0.018518518518518517, 0.018518518518518517, 0.018518518518518517, 0.018518518518518517, 0.018518518518518517, 0.018518518518518517, 0.018518518518518517, 0.018518518518518517, 0.018518518518518517, 0.018518518518518517, 0.018518518518518517, 0.018518518518518517, 0.018518518518518517, 0.018518518518518517, 0.018518518518518517, 0.018518518518518517, 0.018518518518518517, 0.018518518518518517, 0.018518518518518517, 0.018518518518518517, 0.018518518518518517, 0.018518518518518517, 0.018518518518518517, 0.018518518518518517, 0.018518518518518517, 0.018518518518518517, 0.018518518518518517, 0.018518518518518517, 0.018518518518518517, 0.018518518518518517, 0.018518518518518517, 0.018518518518518517, 0.018518518518518517, 0.018518518518518517, 0.018518518518518517, 0.018518518518518517, 0.018518518518518517, 0.018518518518518517, 0.018518518518518517, 0.018518518518518517, 0.018518518518518517, 0.018518518518518517, 0.018518518518518517, 0.018518518518518517, 0.018518518518518517, 0.018518518518518517, 0.018518518518518517, 0.018518518518518517, 0.018518518518518517, 0.018518518518518517, 0.018518518518518517, 0.018518518518518517, 0.018518518518518517, 0.018518518518518517, 0.018518518518518517, 0.018518518518518517, 0.018518518518518517, 0.018518518518518517, 0.018518518518518517, 0.018518518518518517, 0.018518518518518517, 0.018518518518518517, 0.018518518518518517, 0.018518518518518517, 0.018518518518518517, 0.018518518518518517, 0.037037037037037035, 0.037037037037037035, 0.018518518518518517, 0.018518518518518517, 0.037037037037037035, 0.037037037037037035, 0.037037037037037035, 0.018518518518518517, 0.037037037037037035, 0.037037037037037035, 0.018518518518518517, 0.037037037037037035, 0.018518518518518517, 0.037037037037037035, 0.037037037037037035, 0.037037037037037035, 0.037037037037037035, 0.037037037037037035, 0.037037037037037035, 0.018518518518518517, 0.037037037037037035, 0.037037037037037035, 0.037037037037037035, 0.037037037037037035, 0.037037037037037035, 0.037037037037037035, 0.037037037037037035, 0.037037037037037035, 0.037037037037037035, 0.037037037037037035, 0.037037037037037035, 0.037037037037037035, 0.037037037037037035, 0.037037037037037035, 0.037037037037037035, 0.037037037037037035, 0.037037037037037035, 0.037037037037037035, 0.037037037037037035, 0.05555555555555555, 0.037037037037037035, 0.037037037037037035, 0.037037037037037035, 0.037037037037037035, 0.037037037037037035, 0.037037037037037035, 0.037037037037037035, 0.037037037037037035, 0.037037037037037035, 0.037037037037037035, 0.05555555555555555, 0.05555555555555555, 0.037037037037037035, 0.037037037037037035, 0.05555555555555555, 0.037037037037037035, 0.037037037037037035, 0.05555555555555555, 0.037037037037037035, 0.037037037037037035, 0.037037037037037035, 0.037037037037037035, 0.037037037037037035, 0.037037037037037035, 0.037037037037037035, 0.037037037037037035, 0.05555555555555555, 0.037037037037037035, 0.037037037037037035, 0.037037037037037035, 0.05555555555555555, 0.037037037037037035, 0.037037037037037035, 0.037037037037037035, 0.037037037037037035, 0.05555555555555555, 0.037037037037037035, 0.037037037037037035, 0.037037037037037035, 0.037037037037037035, 0.037037037037037035, 0.037037037037037035, 0.037037037037037035, 0.05555555555555555, 0.037037037037037035, 0.037037037037037035, 0.05555555555555555, 0.018518518518518517, 0.05555555555555555, 0.018518518518518517, 0.018518518518518517, 0.037037037037037035, 0.07407407407407407, 0.037037037037037035, 0.018518518518518517, 0.037037037037037035, 0.05555555555555555, 0.037037037037037035, 0.037037037037037035, 0.037037037037037035, 0.018518518518518517, 0.018518518518518517, 0.018518518518518517, 0.018518518518518517, 0.018518518518518517, 0.037037037037037035, 0.018518518518518517, 0.018518518518518517, 0.07407407407407407, 0.037037037037037035, 0.037037037037037035, 0.05555555555555555, 0.037037037037037035, 0.037037037037037035, 0.018518518518518517, 0.05555555555555555, 0.018518518518518517, 0.05555555555555555, 0.018518518518518517, 0.018518518518518517, 0.05555555555555555, 0.05555555555555555, 0.018518518518518517, 0.018518518518518517, 0.018518518518518517, 0.018518518518518517, 0.037037037037037035, 0.037037037037037035, 0.018518518518518517, 0.05555555555555555, 0.018518518518518517, 0.05555555555555555, 0.037037037037037035, 0.018518518518518517, 0.05555555555555555, 0.05555555555555555, 0.037037037037037035, 0.018518518518518517, 0.05555555555555555, 0.018518518518518517, 0.05555555555555555, 0.05555555555555555, 0.037037037037037035, 0.018518518518518517, 0.037037037037037035, 0.018518518518518517, 0.05555555555555555, 0.037037037037037035, 0.018518518518518517, 0.037037037037037035, 0.05555555555555555, 0.037037037037037035, 0.05555555555555555, 0.018518518518518517, 0.018518518518518517, 0.018518518518518517, 0.05555555555555555, 0.018518518518518517, 0.018518518518518517, 0.018518518518518517, 0.018518518518518517, 0.018518518518518517, 0.037037037037037035, 0.018518518518518517, 0.037037037037037035, 0.037037037037037035, 0.018518518518518517, 0.037037037037037035, 0.018518518518518517, 0.018518518518518517, 0.018518518518518517, 0.018518518518518517, 0.05555555555555555, 0.018518518518518517, 0.018518518518518517, 0.018518518518518517, 0.037037037037037035, 0.018518518518518517, 0.018518518518518517, 0.037037037037037035, 0.037037037037037035, 0.018518518518518517, 0.037037037037037035, 0.018518518518518517, 0.037037037037037035, 0.037037037037037035, 0.05555555555555555, 0.018518518518518517, 0.037037037037037035, 0.018518518518518517, 0.037037037037037035, 0.018518518518518517, 0.018518518518518517, 0.018518518518518517, 0.018518518518518517, 0.037037037037037035, 0.037037037037037035, 0.05555555555555555, 0.037037037037037035, 0.018518518518518517, 0.018518518518518517, 0.037037037037037035, 0.018518518518518517, 0.05555555555555555, 0.037037037037037035, 0.018518518518518517, 0.037037037037037035, 0.037037037037037035, 0.018518518518518517, 0.018518518518518517, 0.037037037037037035, 0.037037037037037035, 0.037037037037037035, 0.037037037037037035, 0.018518518518518517, 0.018518518518518517, 0.018518518518518517, 0.018518518518518517, 0.018518518518518517, 0.018518518518518517, 0.018518518518518517, 0.037037037037037035, 0.037037037037037035, 0.018518518518518517, 0.018518518518518517, 0.018518518518518517, 0.018518518518518517, 0.05555555555555555, 0.05555555555555555, 0.018518518518518517, 0.037037037037037035, 0.018518518518518517, 0.037037037037037035, 0.018518518518518517, 0.018518518518518517, 0.037037037037037035, 0.018518518518518517, 0.018518518518518517, 0.018518518518518517, 0.018518518518518517, 0.018518518518518517, 0.05555555555555555, 0.018518518518518517, 0.037037037037037035, 0.018518518518518517, 0.018518518518518517, 0.037037037037037035, 0.05555555555555555, 0.018518518518518517, 0.018518518518518517, 0.037037037037037035, 0.018518518518518517, 0.018518518518518517, 0.037037037037037035, 0.018518518518518517, 0.018518518518518517, 0.018518518518518517, 0.018518518518518517, 0.05555555555555555, 0.05555555555555555, 0.018518518518518517, 0.018518518518518517, 0.018518518518518517, 0.018518518518518517, 0.037037037037037035, 0.018518518518518517, 0.05555555555555555, 0.05555555555555555, 0.05555555555555555, 0.037037037037037035, 0.018518518518518517, 0.018518518518518517, 0.018518518518518517, 0.037037037037037035, 0.037037037037037035, 0.018518518518518517, 0.018518518518518517, 0.018518518518518517, 0.018518518518518517, 0.037037037037037035, 0.018518518518518517, 0.018518518518518517, 0.05555555555555555, 0.037037037037037035, 0.018518518518518517, 0.05555555555555555, 0.037037037037037035, 0.018518518518518517, 0.05555555555555555, 0.018518518518518517, 0.018518518518518517, 0.018518518518518517, 0.018518518518518517, 0.018518518518518517, 0.018518518518518517, 0.018518518518518517, 0.05555555555555555, 0.05555555555555555, 0.018518518518518517, 0.018518518518518517, 0.018518518518518517, 0.037037037037037035, 0.018518518518518517, 0.018518518518518517, 0.018518518518518517, 0.018518518518518517, 0.018518518518518517, 0.018518518518518517, 0.018518518518518517, 0.018518518518518517, 0.018518518518518517, 0.037037037037037035, 0.037037037037037035, 0.018518518518518517, 0.018518518518518517, 0.037037037037037035, 0.037037037037037035, 0.037037037037037035, 0.037037037037037035, 0.018518518518518517, 0.018518518518518517, 0.018518518518518517, 0.037037037037037035, 0.05555555555555555, 0.037037037037037035, 0.037037037037037035, 0.037037037037037035, 0.018518518518518517, 0.018518518518518517, 0.018518518518518517, 0.037037037037037035, 0.018518518518518517, 0.018518518518518517, 0.037037037037037035, 0.018518518518518517, 0.037037037037037035, 0.037037037037037035, 0.018518518518518517, 0.05555555555555555, 0.018518518518518517, 0.018518518518518517, 0.018518518518518517, 0.018518518518518517, 0.05555555555555555, 0.05555555555555555, 0.0, 0.018518518518518517, 0.018518518518518517, 0.018518518518518517, 0.05555555555555555, 0.018518518518518517, 0.037037037037037035, 0.018518518518518517, 0.037037037037037035, 0.018518518518518517, 0.037037037037037035, 0.018518518518518517, 0.018518518518518517, 0.018518518518518517, 0.05555555555555555, 0.05555555555555555, 0.018518518518518517, 0.018518518518518517, 0.018518518518518517, 0.05555555555555555, 0.018518518518518517, 0.018518518518518517, 0.018518518518518517, 0.018518518518518517, 0.037037037037037035, 0.018518518518518517, 0.018518518518518517, 0.05555555555555555, 0.037037037037037035, 0.018518518518518517, 0.018518518518518517, 0.05555555555555555, 0.018518518518518517, 0.018518518518518517, 0.018518518518518517, 0.018518518518518517, 0.05555555555555555, 0.018518518518518517, 0.037037037037037035, 0.05555555555555555, 0.037037037037037035, 0.05555555555555555, 0.037037037037037035, 0.037037037037037035, 0.018518518518518517, 0.037037037037037035, 0.037037037037037035, 0.05555555555555555, 0.018518518518518517, 0.018518518518518517, 0.018518518518518517, 0.05555555555555555, 0.018518518518518517, 0.05555555555555555, 0.018518518518518517, 0.05555555555555555, 0.037037037037037035, 0.018518518518518517, 0.018518518518518517, 0.018518518518518517, 0.018518518518518517, 0.05555555555555555, 0.018518518518518517, 0.05555555555555555, 0.018518518518518517, 0.018518518518518517, 0.037037037037037035, 0.037037037037037035, 0.018518518518518517, 0.037037037037037035, 0.037037037037037035, 0.018518518518518517, 0.0, 0.05555555555555555, 0.05555555555555555, 0.05555555555555555, 0.037037037037037035, 0.018518518518518517, 0.018518518518518517, 0.018518518518518517, 0.018518518518518517, 0.018518518518518517, 0.037037037037037035, 0.05555555555555555, 0.05555555555555555, 0.037037037037037035, 0.037037037037037035, 0.018518518518518517, 0.05555555555555555, 0.05555555555555555, 0.037037037037037035, 0.037037037037037035, 0.018518518518518517, 0.018518518518518517, 0.037037037037037035, 0.018518518518518517, 0.018518518518518517, 0.018518518518518517, 0.018518518518518517, 0.018518518518518517, 0.018518518518518517, 0.018518518518518517, 0.018518518518518517, 0.037037037037037035, 0.018518518518518517, 0.037037037037037035, 0.018518518518518517, 0.018518518518518517, 0.037037037037037035, 0.05555555555555555, 0.018518518518518517, 0.05555555555555555, 0.037037037037037035, 0.018518518518518517, 0.037037037037037035, 0.05555555555555555, 0.018518518518518517, 0.05555555555555555, 0.07407407407407407, 0.018518518518518517, 0.018518518518518517, 0.0, 0.05555555555555555, 0.018518518518518517, 0.018518518518518517, 0.018518518518518517, 0.0, 0.07407407407407407, 0.018518518518518517, 0.018518518518518517, 0.018518518518518517, 0.018518518518518517, 0.0, 0.037037037037037035, 0.018518518518518517, 0.018518518518518517, 0.037037037037037035, 0.037037037037037035, 0.018518518518518517, 0.018518518518518517, 0.018518518518518517, 0.018518518518518517, 0.018518518518518517, 0.037037037037037035, 0.018518518518518517, 0.05555555555555555, 0.037037037037037035, 0.07407407407407407, 0.018518518518518517, 0.037037037037037035, 0.037037037037037035, 0.018518518518518517, 0.037037037037037035, 0.0, 0.0, 0.037037037037037035, 0.018518518518518517, 0.018518518518518517, 0.018518518518518517, 0.037037037037037035, 0.018518518518518517, 0.05555555555555555, 0.018518518518518517, 0.018518518518518517, 0.0, 0.07407407407407407, 0.018518518518518517, 0.0, 0.0, 0.018518518518518517, 0.018518518518518517, 0.018518518518518517, 0.0, 0.05555555555555555, 0.018518518518518517, 0.018518518518518517, 0.0, 0.0, 0.0, 0.037037037037037035, 0.018518518518518517, 0.018518518518518517, 0.037037037037037035, 0.0, 0.05555555555555555, 0.0, 0.05555555555555555, 0.037037037037037035, 0.05555555555555555, 0.018518518518518517, 0.037037037037037035, 0.05555555555555555, 0.018518518518518517, 0.0, 0.0, 0.018518518518518517, 0.037037037037037035, 0.018518518518518517, 0.0, 0.018518518518518517, 0.05555555555555555, 0.05555555555555555, 0.05555555555555555, 0.037037037037037035, 0.0, 0.0, 0.05555555555555555, 0.05555555555555555, 0.037037037037037035, 0.018518518518518517, 0.0, 0.018518518518518517, 0.037037037037037035, 0.07407407407407407, 0.037037037037037035, 0.037037037037037035, 0.0, 0.0, 0.0, 0.0, 0.0, 0.05555555555555555, 0.037037037037037035, 0.0, 0.0, 0.05555555555555555, 0.018518518518518517, 0.0, 0.018518518518518517, 0.0, 0.018518518518518517, 0.0, 0.018518518518518517, 0.0, 0.037037037037037035, 0.018518518518518517, 0.018518518518518517, 0.037037037037037035, 0.018518518518518517, 0.07407407407407407, 0.0, 0.0, 0.018518518518518517, 0.0, 0.0, 0.037037037037037035, 0.018518518518518517, 0.05555555555555555, 0.037037037037037035, 0.018518518518518517, 0.05555555555555555, 0.0, 0.018518518518518517, 0.0, 0.05555555555555555, 0.018518518518518517, 0.05555555555555555, 0.018518518518518517, 0.018518518518518517, 0.037037037037037035, 0.018518518518518517, 0.0, 0.05555555555555555, 0.0, 0.018518518518518517, 0.0, 0.018518518518518517, 0.05555555555555555, 0.0, 0.0, 0.0, 0.05555555555555555, 0.037037037037037035, 0.037037037037037035, 0.0, 0.018518518518518517, 0.05555555555555555, 0.037037037037037035, 0.07407407407407407, 0.037037037037037035, 0.018518518518518517, 0.018518518518518517, 0.018518518518518517, 0.0, 0.018518518518518517, 0.05555555555555555, 0.018518518518518517, 0.018518518518518517, 0.037037037037037035, 0.0, 0.037037037037037035, 0.018518518518518517, 0.018518518518518517, 0.018518518518518517, 0.018518518518518517, 0.07407407407407407, 0.018518518518518517, 0.0, 0.018518518518518517, 0.0, 0.037037037037037035, 0.018518518518518517, 0.05555555555555555, 0.037037037037037035, 0.0, 0.05555555555555555, 0.0, 0.0, 0.0, 0.05555555555555555, 0.05555555555555555, 0.05555555555555555, 0.05555555555555555, 0.037037037037037035, 0.018518518518518517, 0.07407407407407407, 0.037037037037037035, 0.0, 0.05555555555555555, 0.05555555555555555, 0.037037037037037035, 0.0, 0.037037037037037035, 0.0, 0.05555555555555555, 0.0, 0.018518518518518517, 0.018518518518518517, 0.05555555555555555, 0.05555555555555555, 0.0, 0.037037037037037035, 0.0, 0.037037037037037035, 0.05555555555555555, 0.037037037037037035, 0.0, 0.0, 0.07407407407407407, 0.018518518518518517, 0.018518518518518517, 0.05555555555555555, 0.07407407407407407, 0.018518518518518517, 0.0, 0.018518518518518517, 0.018518518518518517, 0.037037037037037035, 0.0, 0.037037037037037035, 0.037037037037037035, 0.037037037037037035, 0.018518518518518517, 0.037037037037037035, 0.0, 0.05555555555555555, 0.037037037037037035, 0.037037037037037035, 0.018518518518518517, 0.05555555555555555, 0.018518518518518517, 0.0, 0.018518518518518517, 0.0, 0.037037037037037035, 0.037037037037037035, 0.037037037037037035, 0.05555555555555555, 0.0, 0.07407407407407407, 0.037037037037037035, 0.037037037037037035, 0.037037037037037035, 0.018518518518518517, 0.018518518518518517, 0.018518518518518517, 0.018518518518518517, 0.0, 0.018518518518518517, 0.05555555555555555, 0.0, 0.05555555555555555, 0.018518518518518517, 0.018518518518518517, 0.0, 0.0, 0.0, 0.018518518518518517, 0.0, 0.07407407407407407, 0.018518518518518517, 0.018518518518518517, 0.05555555555555555, 0.018518518518518517, 0.05555555555555555, 0.0, 0.05555555555555555, 0.0, 0.0, 0.05555555555555555, 0.0, 0.018518518518518517]\n"
     ]
    }
   ],
   "source": [
    "print(train_score)\n",
    "print(test_score)"
   ]
  },
  {
   "cell_type": "code",
   "execution_count": 11,
   "metadata": {
    "pycharm": {
     "name": "#%%\n"
    }
   },
   "outputs": [
    {
     "name": "stdout",
     "output_type": "stream",
     "text": [
      "When n_estimators=950, \n",
      ", train_MSE=0.0, test_MSE=0.037037037037037035,CVS=0.9666666666666666\n",
      "-----------------------------------------------\n",
      "GBDT:\n",
      "cross_val_score = 0.9382352941176471\n",
      "f1_score = 1.0\n",
      "accuracy_score = 1.0\n",
      "recall_score = 1.0\n",
      "-----------------------------------------------\n"
     ]
    }
   ],
   "source": [
    "CVS=np.array(CVS)\n",
    "best_n_estimators=CVS.argsort()[::-1][0]+1\n",
    "print('When n_estimators={}, \\n, train_MSE={}, test_MSE={},CVS={}'.format(best_n_estimators,train_score[best_n_estimators-1],test_score[best_n_estimators-1],CVS[best_n_estimators-1]))\n",
    "session = GradientBoostingClassifier(n_estimators=best_n_estimators)\n",
    "session = session.fit(X_train,y_train)\n",
    "\n",
    "score_GBDT = [cross_val_score(session,X,y,cv=10).mean(),\n",
    "                f1_score(y_pred=session.predict(X_test),y_true=y_test,zero_division=0,average='weighted'),\n",
    "                accuracy_score(y_pred=session.predict(X_test),y_true=y_test),\n",
    "                recall_score(y_pred=session.predict(X_test),y_true=y_test,zero_division=0,average='weighted')]\n",
    "print('-----------------------------------------------')\n",
    "print('GBDT:')\n",
    "print('cross_val_score =',score_GBDT[0])\n",
    "print('f1_score =',score_GBDT[1])\n",
    "print('accuracy_score =',score_GBDT[2])\n",
    "print('recall_score =',score_GBDT[3])\n",
    "print('-----------------------------------------------')"
   ]
  },
  {
   "cell_type": "markdown",
   "metadata": {
    "pycharm": {
     "name": "#%% md\n"
    }
   },
   "source": [
    "#### 由此可知，在UCI红酒数据集上，GBDT模型的表现较好"
   ]
  },
  {
   "cell_type": "markdown",
   "metadata": {
    "pycharm": {
     "name": "#%% md\n"
    }
   },
   "source": []
  }
 ],
 "metadata": {
  "kernelspec": {
   "display_name": "Python 3 (ipykernel)",
   "language": "python",
   "name": "python3"
  },
  "language_info": {
   "codemirror_mode": {
    "name": "ipython",
    "version": 3
   },
   "file_extension": ".py",
   "mimetype": "text/x-python",
   "name": "python",
   "nbconvert_exporter": "python",
   "pygments_lexer": "ipython3",
   "version": "3.9.7"
  }
 },
 "nbformat": 4,
 "nbformat_minor": 1
}
