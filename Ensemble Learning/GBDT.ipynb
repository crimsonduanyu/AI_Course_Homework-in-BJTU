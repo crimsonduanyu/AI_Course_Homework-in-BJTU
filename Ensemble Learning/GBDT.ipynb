{
 "cells": [
  {
   "cell_type": "markdown",
   "source": [
    "# GBDT"
   ],
   "metadata": {
    "collapsed": false,
    "pycharm": {
     "name": "#%% md\n"
    }
   }
  },
  {
   "cell_type": "markdown",
   "source": [
    "###### # -*- coding: utf-8 -*-\n",
    "###### # @Time : 2022/4/21\n",
    "###### # @EMAIL： duanyu@bjtu.edu.cn\n",
    "###### # @Software: PyCharm"
   ],
   "metadata": {
    "collapsed": false,
    "pycharm": {
     "name": "#%% md\n"
    }
   }
  },
  {
   "cell_type": "markdown",
   "source": [
    "###### 编程实现GBDT算法对波士顿房价数据集进行回归，并绘图展示boosting迭代次数（横轴）与训练/测试误差（纵轴）的折线图。"
   ],
   "metadata": {
    "collapsed": false,
    "pycharm": {
     "name": "#%% md\n"
    }
   }
  },
  {
   "cell_type": "code",
   "execution_count": 4,
   "outputs": [
    {
     "name": "stderr",
     "output_type": "stream",
     "text": [
      "C:\\Users\\ASUS\\anaconda3\\envs\\sklearn-env\\lib\\site-packages\\sklearn\\utils\\deprecation.py:87: FutureWarning: Function load_boston is deprecated; `load_boston` is deprecated in 1.0 and will be removed in 1.2.\n",
      "\n",
      "    The Boston housing prices dataset has an ethical problem. You can refer to\n",
      "    the documentation of this function for further details.\n",
      "\n",
      "    The scikit-learn maintainers therefore strongly discourage the use of this\n",
      "    dataset unless the purpose of the code is to study and educate about\n",
      "    ethical issues in data science and machine learning.\n",
      "\n",
      "    In this special case, you can fetch the dataset from the original\n",
      "    source::\n",
      "\n",
      "        import pandas as pd\n",
      "        import numpy as np\n",
      "\n",
      "\n",
      "        data_url = \"http://lib.stat.cmu.edu/datasets/boston\"\n",
      "        raw_df = pd.read_csv(data_url, sep=\"\\s+\", skiprows=22, header=None)\n",
      "        data = np.hstack([raw_df.values[::2, :], raw_df.values[1::2, :2]])\n",
      "        target = raw_df.values[1::2, 2]\n",
      "\n",
      "    Alternative datasets include the California housing dataset (i.e.\n",
      "    :func:`~sklearn.datasets.fetch_california_housing`) and the Ames housing\n",
      "    dataset. You can load the datasets as follows::\n",
      "\n",
      "        from sklearn.datasets import fetch_california_housing\n",
      "        housing = fetch_california_housing()\n",
      "\n",
      "    for the California housing dataset and::\n",
      "\n",
      "        from sklearn.datasets import fetch_openml\n",
      "        housing = fetch_openml(name=\"house_prices\", as_frame=True)\n",
      "\n",
      "    for the Ames housing dataset.\n",
      "    \n",
      "  warnings.warn(msg, category=FutureWarning)\n"
     ]
    }
   ],
   "source": [
    "from sklearn.datasets import load_boston\n",
    "from sklearn.model_selection import train_test_split\n",
    "import numpy as np\n",
    "\n",
    "import matplotlib.pyplot as plt\n",
    "%matplotlib inline\n",
    "\n",
    "data = load_boston()\n",
    "X = data['data']\n",
    "y = data['target']\n",
    "X_train,X_test,y_train,y_test = train_test_split(X,y,test_size=0.3)"
   ],
   "metadata": {
    "collapsed": false,
    "pycharm": {
     "name": "#%%\n"
    }
   }
  },
  {
   "cell_type": "code",
   "execution_count": 5,
   "outputs": [
    {
     "name": "stdout",
     "output_type": "stream",
     "text": [
      "When n_estimators=50, train_MSE=2.941203516590663, test_MSE=10.094179712664863\n",
      "When n_estimators=100, train_MSE=1.559878474884029, test_MSE=8.990990559078519\n",
      "When n_estimators=150, train_MSE=0.8563692602725927, test_MSE=8.81501726333561\n",
      "When n_estimators=200, train_MSE=0.5180281456811874, test_MSE=8.824366657107454\n",
      "When n_estimators=250, train_MSE=0.3322678102250091, test_MSE=9.069816358989767\n",
      "When n_estimators=300, train_MSE=0.21342838633158426, test_MSE=8.957733687214079\n",
      "When n_estimators=350, train_MSE=0.13435918185999624, test_MSE=10.042784305251315\n",
      "When n_estimators=400, train_MSE=0.09003257433111525, test_MSE=9.417590231104988\n",
      "When n_estimators=450, train_MSE=0.05928444936729178, test_MSE=9.709377561896147\n",
      "When n_estimators=500, train_MSE=0.040034135625672485, test_MSE=9.363877742822853\n",
      "When n_estimators=550, train_MSE=0.027077743653649795, test_MSE=9.242290137712127\n",
      "When n_estimators=600, train_MSE=0.018232149906807157, test_MSE=9.191982529126834\n",
      "When n_estimators=650, train_MSE=0.012498613423434208, test_MSE=9.211144771795375\n",
      "When n_estimators=700, train_MSE=0.008299593336081077, test_MSE=8.997359121050726\n",
      "When n_estimators=750, train_MSE=0.0053986143495090766, test_MSE=8.9936857241904\n",
      "When n_estimators=800, train_MSE=0.003987489572466287, test_MSE=9.263011071944776\n",
      "When n_estimators=850, train_MSE=0.0027179818184850804, test_MSE=9.276669524392608\n",
      "When n_estimators=900, train_MSE=0.0018814617997086425, test_MSE=9.01240590006733\n",
      "When n_estimators=950, train_MSE=0.0013003204229321997, test_MSE=9.009342789995603\n",
      "When n_estimators=1000, train_MSE=0.0009195603974521278, test_MSE=9.42424752955155\n",
      "When n_estimators=1050, train_MSE=0.0006202141209422769, test_MSE=9.868198662403751\n",
      "When n_estimators=1100, train_MSE=0.00042974429795465956, test_MSE=9.335478167212269\n",
      "When n_estimators=1150, train_MSE=0.0002974880109397092, test_MSE=9.165222448514875\n",
      "When n_estimators=1200, train_MSE=0.00021445819848227562, test_MSE=9.327419960394485\n",
      "When n_estimators=1250, train_MSE=0.00015523448084898265, test_MSE=8.74329602981865\n",
      "When n_estimators=1300, train_MSE=0.00011048089642214447, test_MSE=9.038756313518562\n",
      "When n_estimators=1350, train_MSE=7.725919938746703e-05, test_MSE=9.35527961788798\n",
      "When n_estimators=1400, train_MSE=5.674642472332262e-05, test_MSE=8.951880017176174\n",
      "When n_estimators=1450, train_MSE=3.956961903577915e-05, test_MSE=9.204204214904923\n",
      "When n_estimators=1500, train_MSE=2.675810176606815e-05, test_MSE=8.99106383825968\n",
      "When n_estimators=1550, train_MSE=1.9075085029473543e-05, test_MSE=9.411228368104949\n",
      "When n_estimators=1600, train_MSE=1.3888938348332961e-05, test_MSE=9.072855885837786\n",
      "When n_estimators=1650, train_MSE=9.833947212738745e-06, test_MSE=9.00937755312989\n",
      "When n_estimators=1700, train_MSE=7.022877337931322e-06, test_MSE=9.482895355038705\n",
      "When n_estimators=1750, train_MSE=5.140873147635522e-06, test_MSE=9.100767800879874\n",
      "When n_estimators=1800, train_MSE=3.820525098847674e-06, test_MSE=9.114095558522585\n",
      "When n_estimators=1850, train_MSE=2.7790695828193254e-06, test_MSE=8.994180992402425\n",
      "When n_estimators=1900, train_MSE=2.097328766873849e-06, test_MSE=9.238011632866828\n",
      "When n_estimators=1950, train_MSE=1.5136071161524382e-06, test_MSE=10.10829147299696\n",
      "When n_estimators=2000, train_MSE=1.0748554267094e-06, test_MSE=9.28502525577137\n"
     ]
    },
    {
     "data": {
      "text/plain": "<Figure size 432x288 with 1 Axes>",
      "image/png": "[encoded data removed]"
     },
     "metadata": {
      "needs_background": "light"
     },
     "output_type": "display_data"
    }
   ],
   "source": [
    "from sklearn.model_selection import cross_val_score\n",
    "from sklearn.ensemble import GradientBoostingRegressor\n",
    "from sklearn.metrics import mean_squared_error as msef\n",
    "train_score=[]\n",
    "test_score=[]\n",
    "\n",
    "for i in range(1,2000+1):\n",
    "    session = GradientBoostingRegressor(n_estimators=i)\n",
    "    session = session.fit(X_train,y_train)\n",
    "    train_score.append(msef(y_train,session.predict(X_train)))\n",
    "    test_score.append(msef(y_test,session.predict(X_test)))\n",
    "    if len(train_score)%50==0:\n",
    "        print(\"When n_estimators={}, train_MSE={}, test_MSE={}\".format(len(train_score),train_score[-1],test_score[-1]))\n",
    "plt.plot(np.arange(2000)+1,train_score,'b-',label = \"Training Set MSE\")\n",
    "plt.plot(np.arange(2000)+1,test_score,'r-',label = \"Testing Set MSE\")\n",
    "\n",
    "plt.legend()\n",
    "plt.show()"
   ],
   "metadata": {
    "collapsed": false,
    "pycharm": {
     "name": "#%%\n"
    }
   }
  }
 ],
 "metadata": {
  "kernelspec": {
   "display_name": "Python 3",
   "language": "python",
   "name": "python3"
  },
  "language_info": {
   "codemirror_mode": {
    "name": "ipython",
    "version": 2
   },
   "file_extension": ".py",
   "mimetype": "text/x-python",
   "name": "python",
   "nbconvert_exporter": "python",
   "pygments_lexer": "ipython2",
   "version": "2.7.6"
  }
 },
 "nbformat": 4,
 "nbformat_minor": 0
}